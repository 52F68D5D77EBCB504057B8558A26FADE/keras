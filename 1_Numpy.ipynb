{
 "cells": [
  {
   "cell_type": "code",
   "execution_count": null,
   "metadata": {},
   "outputs": [],
   "source": [
    "# 넘파이의 필요성\n",
    "# 파이썬의 리스트는 연산 전용이 아니므로 계산을 수행하기 어렵습니다.\n",
    "l1 = [1,2,3,4]\n",
    "l2 = [1,1,1,1]\n",
    "\n",
    "print(l1 + l2)"
   ]
  },
  {
   "cell_type": "code",
   "execution_count": null,
   "metadata": {},
   "outputs": [],
   "source": [
    "# 원소별 덧셈\n",
    "l1 = [1,2,3,4]\n",
    "l2 = [1,1,1,1]\n",
    "\n",
    "result = []\n",
    "for x, y in zip(l1, l2):\n",
    "    result.append(x + y)\n",
    "\n",
    "print(result)"
   ]
  },
  {
   "cell_type": "code",
   "execution_count": null,
   "metadata": {},
   "outputs": [],
   "source": [
    "# 중첩 리스트의 경우, 상당히 복잡해집니다.\n",
    "\n",
    "l3 = [[1,2,3],[4,5,6]]\n",
    "l4 = [[1,1,1],[1,1,1]]\n",
    "\n",
    "result = []  \n",
    "for i in range(len(l3)):\n",
    "    temp = []\n",
    "    for j in range(len(l3[i])):\n",
    "        temp.append(l3[i][j] + l4[i][j])\n",
    "    result.append(temp)\n",
    "\n",
    "print(result)"
   ]
  },
  {
   "cell_type": "code",
   "execution_count": null,
   "metadata": {},
   "outputs": [],
   "source": [
    "# 파이썬의 리스트를 사용한 연산의 가장 큰 문제점은 연산 속도가 매우 느립니다.\n",
    "# 이는 파이썬은 인터프리터에 의해 해석되어 실행되기 때문입니다.\n",
    "\n",
    "# 넘파이는 파이썬의 리스트 대신 ndarray(n-dimetional array, 다차원 배열)라는 클래스, 즉 다차원배열을 제공합니다.\n",
    "# 다차원 배열은 연산에 최적화되어 있어 계산을 좀 더 편리하게 할 수 있습니다. 그리고 일부 구현이 C언어로 작성되어 있어 연산이\n",
    "# 매우 빠르고 메모리에 대한 최적화도 되어 있습니다."
   ]
  },
  {
   "cell_type": "code",
   "execution_count": null,
   "metadata": {},
   "outputs": [],
   "source": [
    "import numpy as np # 관례적으로 np라는 별칭을 사용합니다."
   ]
  },
  {
   "cell_type": "code",
   "execution_count": null,
   "metadata": {},
   "outputs": [],
   "source": [
    "# 파이썬의 리스트 사용\n",
    "a = np.array([1, 2, 3, 4])\n",
    "print(a)"
   ]
  },
  {
   "cell_type": "code",
   "execution_count": null,
   "metadata": {},
   "outputs": [],
   "source": [
    "# 파이썬의 튜플 사용\n",
    "a = np.array((1, 2, 3, 4))\n",
    "print(a)"
   ]
  },
  {
   "cell_type": "code",
   "execution_count": null,
   "metadata": {},
   "outputs": [],
   "source": [
    "# 파이썬의 리스트와 마찬가지로 인덱싱을 제공함\n",
    "\n",
    "#              -4 -3 -2 -1\n",
    "#               0  1  2  3\n",
    "arr = np.array([1, 2, 3, 4])\n",
    "print(arr[0], arr[1], arr[2], arr[3])\n",
    "print(arr[-1], arr[-2], arr[-3], arr[-4]) \n",
    "\n",
    "# 존재하지 않는 원소에 대하여 인덱싱을 수행하면 오류가 발생합니다.\n",
    "# print(arr[10])\n",
    "# print(arr[-10])"
   ]
  },
  {
   "cell_type": "code",
   "execution_count": null,
   "metadata": {},
   "outputs": [],
   "source": [
    "# 다차원 배열은 반복문에도 사용될 수 있습니다.\n",
    "arr = np.array([1, 2, 3, 4])\n",
    "for i in arr:\n",
    "    print(i, end=\" \")"
   ]
  },
  {
   "cell_type": "code",
   "execution_count": null,
   "metadata": {},
   "outputs": [],
   "source": [
    "# 다차원 배열이므로 2차원 배열도 생성할 수 있습니다.\n",
    "# 2차원 배열은 파이썬의 중첩 리스트를 사용하여 생성합니다.\n",
    "arr = np.array([[1,2,3],\n",
    "                [4,5,6]])\n",
    "print(arr)"
   ]
  },
  {
   "cell_type": "code",
   "execution_count": null,
   "metadata": {},
   "outputs": [],
   "source": [
    "# 2차원 배열에 대하여 인덱싱은 기존 파이썬과 조금 다르게 튜플을 사용합니다.\n",
    "l = [[1,2,3], [4,5,6]]\n",
    "print(l[1][2])\n",
    "\n",
    "#             -3 -2 -1\n",
    "#              0  1  2\n",
    "a = np.array([[1, 2, 3],  # 0  -2\n",
    "              [4, 5, 6]]) # 1  -1\n",
    "print(a[1,2])\n",
    "print(a[-2, -3])"
   ]
  },
  {
   "cell_type": "code",
   "execution_count": null,
   "metadata": {},
   "outputs": [],
   "source": [
    "# 3차원 배열도 생성할 수 있습니다.\n",
    "arr = np.array([[[1,2],\n",
    "                 [3,4]],\n",
    "                [[5,6],\n",
    "                 [7,8]]])\n",
    "print(arr)"
   ]
  },
  {
   "cell_type": "code",
   "execution_count": 2,
   "metadata": {},
   "outputs": [
    {
     "name": "stdout",
     "output_type": "stream",
     "text": [
      "[0 0 0 0 0 0 0 0 0 0]\n"
     ]
    }
   ],
   "source": [
    "import numpy as np\n",
    "\n",
    "# 생성과 초기화\n",
    "arr = np.array([0, 0, 0, 0, 0, 0, 0, 0, 0, 0])\n",
    "print(arr)"
   ]
  },
  {
   "cell_type": "code",
   "execution_count": 3,
   "metadata": {},
   "outputs": [
    {
     "name": "stdout",
     "output_type": "stream",
     "text": [
      "[0. 0. 0. 0. 0. 0. 0. 0. 0. 0.]\n"
     ]
    }
   ],
   "source": [
    "# zeros: 원소가 0인 배열을 생성하는 함수\n",
    "\n",
    "# 1차원 배열 생성\n",
    "arr = np.zeros(10) # 원소는 실수(부동소수점) 타입으로 생성됩니다.\n",
    "print(arr)"
   ]
  },
  {
   "cell_type": "code",
   "execution_count": 4,
   "metadata": {},
   "outputs": [
    {
     "name": "stdout",
     "output_type": "stream",
     "text": [
      "[0 0 0 0 0 0 0 0 0 0]\n"
     ]
    }
   ],
   "source": [
    "arr = np.zeros(10, dtype=np.int) # 원소의 타입을 설정하려면 dtype 매개변수에 np.int라고 설정해 주시면 됩니다.\n",
    "print(arr)"
   ]
  },
  {
   "cell_type": "code",
   "execution_count": 5,
   "metadata": {},
   "outputs": [
    {
     "name": "stdout",
     "output_type": "stream",
     "text": [
      "[[0. 0. 0.]\n",
      " [0. 0. 0.]]\n"
     ]
    }
   ],
   "source": [
    "# 2차원 배열\n",
    "arr = np.zeros((2,3)) # 튜플 형태로 전달해야 합니다.\n",
    "print(arr)"
   ]
  },
  {
   "cell_type": "code",
   "execution_count": 6,
   "metadata": {},
   "outputs": [
    {
     "name": "stdout",
     "output_type": "stream",
     "text": [
      "[[[0. 0. 0. 0.]\n",
      "  [0. 0. 0. 0.]\n",
      "  [0. 0. 0. 0.]]\n",
      "\n",
      " [[0. 0. 0. 0.]\n",
      "  [0. 0. 0. 0.]\n",
      "  [0. 0. 0. 0.]]]\n"
     ]
    }
   ],
   "source": [
    "# 3차원 배열\n",
    "arr = np.zeros((2,3,4)) # 면, 행, 열\n",
    "print(arr)"
   ]
  },
  {
   "cell_type": "code",
   "execution_count": 7,
   "metadata": {},
   "outputs": [
    {
     "name": "stdout",
     "output_type": "stream",
     "text": [
      "[1. 1. 1. 1. 1.] \n",
      "\n",
      "[[1. 1. 1.]\n",
      " [1. 1. 1.]] \n",
      "\n",
      "[[[1. 1. 1. 1.]\n",
      "  [1. 1. 1. 1.]\n",
      "  [1. 1. 1. 1.]]\n",
      "\n",
      " [[1. 1. 1. 1.]\n",
      "  [1. 1. 1. 1.]\n",
      "  [1. 1. 1. 1.]]]\n"
     ]
    }
   ],
   "source": [
    "# ones: 원소가 1인 배열을 생성하는 함수\n",
    "print(np.ones(5), \"\\n\")\n",
    "print(np.ones((2,3)), \"\\n\")\n",
    "print(np.ones((2,3,4)))"
   ]
  },
  {
   "cell_type": "code",
   "execution_count": 8,
   "metadata": {},
   "outputs": [
    {
     "name": "stdout",
     "output_type": "stream",
     "text": [
      "[3.14 3.14 3.14 3.14 3.14] \n",
      "\n",
      "[[3.14 3.14 3.14]\n",
      " [3.14 3.14 3.14]] \n",
      "\n",
      "[[[3.14 3.14 3.14 3.14]\n",
      "  [3.14 3.14 3.14 3.14]\n",
      "  [3.14 3.14 3.14 3.14]]\n",
      "\n",
      " [[3.14 3.14 3.14 3.14]\n",
      "  [3.14 3.14 3.14 3.14]\n",
      "  [3.14 3.14 3.14 3.14]]]\n"
     ]
    }
   ],
   "source": [
    "# full: 특정 값을 사용하여 배열을 생성하는 함수\n",
    "print(np.full(5, 3.14), \"\\n\")\n",
    "print(np.full((2,3), 3.14), \"\\n\")\n",
    "print(np.full((2,3,4), 3.14))"
   ]
  },
  {
   "cell_type": "code",
   "execution_count": 9,
   "metadata": {},
   "outputs": [
    {
     "name": "stdout",
     "output_type": "stream",
     "text": [
      "[[1. 0. 0. 0. 0.]\n",
      " [0. 1. 0. 0. 0.]\n",
      " [0. 0. 1. 0. 0.]\n",
      " [0. 0. 0. 1. 0.]\n",
      " [0. 0. 0. 0. 1.]]\n"
     ]
    }
   ],
   "source": [
    "# eye: 단위 행렬을 생성하는 함수\n",
    "print(np.eye(5))"
   ]
  },
  {
   "cell_type": "code",
   "execution_count": 10,
   "metadata": {},
   "outputs": [
    {
     "name": "stdout",
     "output_type": "stream",
     "text": [
      "[[1. 0. 0. 0. 0.]\n",
      " [1. 1. 0. 0. 0.]\n",
      " [1. 1. 1. 0. 0.]\n",
      " [1. 1. 1. 1. 0.]\n",
      " [1. 1. 1. 1. 1.]]\n"
     ]
    }
   ],
   "source": [
    "# tri: 삼각 행렬을 생성하는 함수\n",
    "print(np.tri(5))"
   ]
  },
  {
   "cell_type": "code",
   "execution_count": null,
   "metadata": {},
   "outputs": [],
   "source": [
    "# 인자로 전달된 배열과 동일 형상의 배열을 생성하는 함수도 제공합니다.\n",
    "# zeros_like\n",
    "# ones_like\n",
    "# full_like"
   ]
  },
  {
   "cell_type": "code",
   "execution_count": 11,
   "metadata": {},
   "outputs": [
    {
     "name": "stdout",
     "output_type": "stream",
     "text": [
      "[0 0 0 0 0] \n",
      "\n",
      "[[0 0 0]\n",
      " [0 0 0]]\n"
     ]
    }
   ],
   "source": [
    "a1 = np.array([1,2,3,4,5])\n",
    "a2 = np.array([[1,2,3],\n",
    "               [4,5,6]])\n",
    "print(np.zeros_like(a1), \"\\n\")\n",
    "print(np.zeros_like(a2))"
   ]
  },
  {
   "cell_type": "code",
   "execution_count": 12,
   "metadata": {},
   "outputs": [
    {
     "name": "stdout",
     "output_type": "stream",
     "text": [
      "[1 1 1 1 1] \n",
      "\n",
      "[[1 1 1]\n",
      " [1 1 1]]\n"
     ]
    }
   ],
   "source": [
    "a1 = np.array([1,2,3,4,5])\n",
    "a2 = np.array([[1,2,3],\n",
    "               [4,5,6]])\n",
    "print(np.ones_like(a1), \"\\n\")\n",
    "print(np.ones_like(a2)) \n"
   ]
  },
  {
   "cell_type": "code",
   "execution_count": 13,
   "metadata": {},
   "outputs": [
    {
     "name": "stdout",
     "output_type": "stream",
     "text": [
      "[9 9 9 9 9] \n",
      "\n",
      "[[9 9 9]\n",
      " [9 9 9]]\n"
     ]
    }
   ],
   "source": [
    "a1 = np.array([1,2,3,4,5])\n",
    "a2 = np.array([[1,2,3],\n",
    "               [4,5,6]])\n",
    "print(np.full_like(a1, 9), \"\\n\")\n",
    "print(np.full_like(a2, 9))"
   ]
  },
  {
   "cell_type": "code",
   "execution_count": 14,
   "metadata": {},
   "outputs": [
    {
     "name": "stdout",
     "output_type": "stream",
     "text": [
      "[1 3 5 7 9]\n",
      "[1 3 5 7 9]\n"
     ]
    }
   ],
   "source": [
    "# 정수 범위로 배열을 생성\n",
    "print(np.array(range(1,10,2)))\n",
    "\n",
    "# arange(start, stop, step)\n",
    "# range와 마찬가지로 반개구간입니다. [start, stop)\n",
    "print(np.arange(1,10,2))"
   ]
  },
  {
   "cell_type": "code",
   "execution_count": 15,
   "metadata": {},
   "outputs": [
    {
     "name": "stdout",
     "output_type": "stream",
     "text": [
      "[0 1 2 3 4 5 6 7 8 9]\n"
     ]
    }
   ],
   "source": [
    "print(np.arange(0,10,1))"
   ]
  },
  {
   "cell_type": "code",
   "execution_count": 16,
   "metadata": {},
   "outputs": [
    {
     "name": "stdout",
     "output_type": "stream",
     "text": [
      "[0 1 2 3 4 5 6 7 8 9]\n",
      "[0 1 2 3 4 5 6 7 8 9]\n"
     ]
    }
   ],
   "source": [
    "print(np.arange(0,10)) # step의 기본값은 1입니다.\n",
    "print(np.arange(10))   # start의 기본값은 0입니다."
   ]
  },
  {
   "cell_type": "code",
   "execution_count": 17,
   "metadata": {},
   "outputs": [
    {
     "name": "stdout",
     "output_type": "stream",
     "text": [
      "[-3.  -1.5  0.   1.5  3. ]\n"
     ]
    }
   ],
   "source": [
    "# 범위 내에서 균등 간격으로 배열을 생성\n",
    "arr = np.linspace(-3, 3, 5)\n",
    "print(arr)"
   ]
  },
  {
   "cell_type": "code",
   "execution_count": 18,
   "metadata": {},
   "outputs": [
    {
     "name": "stdout",
     "output_type": "stream",
     "text": [
      "[0.75102131 0.34873733 0.21546312] \n",
      "\n",
      "[[0.9303118  0.91914342 0.99058249]\n",
      " [0.70701454 0.23970566 0.27354149]] \n",
      "\n",
      "[[[0.39761207 0.08461749 0.40796167 0.2359954 ]\n",
      "  [0.72661169 0.11727734 0.26265051 0.42489036]\n",
      "  [0.87982853 0.68428963 0.18208337 0.22850839]]\n",
      "\n",
      " [[0.33038346 0.71807788 0.74928507 0.29356149]\n",
      "  [0.71118221 0.5803654  0.51598126 0.48663666]\n",
      "  [0.45906153 0.51131514 0.76522861 0.42518043]]]\n"
     ]
    }
   ],
   "source": [
    "# 임의의 값으로 배열 생성할 수 있습니다.\n",
    "# 난수 발생 범위는 0이상 1미만입니다.\n",
    "print(np.random.random(3), \"\\n\")\n",
    "print(np.random.random((2,3)), \"\\n\")\n",
    "print(np.random.random((2,3,4)))"
   ]
  },
  {
   "cell_type": "code",
   "execution_count": 34,
   "metadata": {},
   "outputs": [
    {
     "name": "stdout",
     "output_type": "stream",
     "text": [
      "[[0 3 3]\n",
      " [3 9 9]\n",
      " [4 0 3]]\n"
     ]
    }
   ],
   "source": [
    "# 일정 범위 내에서 정수형 난수를 생성\n",
    "# 범위는 반개구간입니다.\n",
    "arr = np.random.randint(0, 10, (3,3))\n",
    "print(arr)"
   ]
  },
  {
   "cell_type": "code",
   "execution_count": 46,
   "metadata": {},
   "outputs": [
    {
     "name": "stdout",
     "output_type": "stream",
     "text": [
      "[[ 1.70284341 -0.57149586 -0.7811666 ]\n",
      " [ 0.37232644  1.03078533 -1.90119569]\n",
      " [-0.5415339   1.02245399 -0.07053306]]\n"
     ]
    }
   ],
   "source": [
    "# 정규 분표(nomal distribution)를 고려한 난수 배열 생성\n",
    "# normal(평균, 표준편차, 모양)\n",
    "arr = np.random.normal(0, 1, (3,3))\n",
    "print(arr)"
   ]
  }
 ],
 "metadata": {
  "kernelspec": {
   "display_name": "Python 3",
   "language": "python",
   "name": "python3"
  },
  "language_info": {
   "codemirror_mode": {
    "name": "ipython",
    "version": 3
   },
   "file_extension": ".py",
   "mimetype": "text/x-python",
   "name": "python",
   "nbconvert_exporter": "python",
   "pygments_lexer": "ipython3",
   "version": "3.7.4"
  }
 },
 "nbformat": 4,
 "nbformat_minor": 4
}
