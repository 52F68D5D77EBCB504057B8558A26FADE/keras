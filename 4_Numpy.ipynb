{
 "cells": [
  {
   "cell_type": "code",
   "execution_count": 1,
   "metadata": {},
   "outputs": [
    {
     "name": "stdout",
     "output_type": "stream",
     "text": [
      "[13 24 35]\n",
      "[ 9 20 31]\n",
      "[22 44 66]\n",
      "[ 5.5 11.  16.5]\n",
      "[ 5 11 16]\n",
      "[1 0 1]\n",
      "[ 121  484 1089]\n",
      "[-11 -22 -33]\n"
     ]
    }
   ],
   "source": [
    "import numpy as np\n",
    "\n",
    "# 1. 다차원 배열의 연산\n",
    "# 다차원 배열은 사칙 연산을 지원합니다.\n",
    "a1 = np.array([11,22,33])\n",
    "a2 = np.array([2,2,2])\n",
    "\n",
    "print(np.add(a1, a2))\n",
    "print(np.subtract(a1, a2))    \n",
    "print(np.multiply(a1, a2))  \n",
    "print(np.divide(a1, a2))      \n",
    "print(np.floor_divide(a1, a2))\n",
    "print(np.mod(a1, a2))         \n",
    "print(np.power(a1, a2))       \n",
    "print(np.negative(a1))       "
   ]
  },
  {
   "cell_type": "code",
   "execution_count": 2,
   "metadata": {},
   "outputs": [
    {
     "name": "stdout",
     "output_type": "stream",
     "text": [
      "[13 24 35]\n",
      "[ 9 20 31]\n",
      "[22 44 66]\n",
      "[ 5.5 11.  16.5]\n",
      "[ 5 11 16]\n",
      "[1 0 1]\n",
      "[ 121  484 1089]\n",
      "[-11 -22 -33]\n"
     ]
    }
   ],
   "source": [
    "# 넘파이의 다차원 배열은 연산자를 사용하여 직접 계산을 수행할 수 있습니다.\n",
    "print(a1 + a2)\n",
    "print(a1 - a2)\n",
    "print(a1 * a2)\n",
    "print(a1 / a2)\n",
    "print(a1 // a2)\n",
    "print(a1 % a2)\n",
    "print(a1 ** a2)\n",
    "print(-a1)"
   ]
  },
  {
   "cell_type": "code",
   "execution_count": 3,
   "metadata": {},
   "outputs": [
    {
     "name": "stdout",
     "output_type": "stream",
     "text": [
      "[[10 20 30]\n",
      " [40 50 60]\n",
      " [70 80 90]]\n",
      "[[1 2 3]\n",
      " [4 5 6]\n",
      " [7 8 9]]\n"
     ]
    }
   ],
   "source": [
    "# 2차원 배열에 대한 연산\n",
    "arr1 = np.arange(10, 90+1, 10).reshape(3,3)\n",
    "print(arr1)\n",
    "\n",
    "arr2 = np.arange(1, 9+1).reshape(3,3)\n",
    "print(arr2)"
   ]
  },
  {
   "cell_type": "code",
   "execution_count": 4,
   "metadata": {},
   "outputs": [
    {
     "name": "stdout",
     "output_type": "stream",
     "text": [
      "[[11 22 33]\n",
      " [44 55 66]\n",
      " [77 88 99]]\n",
      "[[ 9 18 27]\n",
      " [36 45 54]\n",
      " [63 72 81]]\n",
      "[[ 10  40  90]\n",
      " [160 250 360]\n",
      " [490 640 810]]\n",
      "[[10. 10. 10.]\n",
      " [10. 10. 10.]\n",
      " [10. 10. 10.]]\n",
      "[[10 10 10]\n",
      " [10 10 10]\n",
      " [10 10 10]]\n",
      "[[0 0 0]\n",
      " [0 0 0]\n",
      " [0 0 0]]\n",
      "[[                10                400              27000]\n",
      " [           2560000          312500000        46656000000]\n",
      " [     8235430000000   1677721600000000 387420489000000000]]\n"
     ]
    }
   ],
   "source": [
    "print(arr1+arr2)\n",
    "print(arr1-arr2)\n",
    "print(arr1*arr2)\n",
    "print(arr1/arr2)\n",
    "print(arr1//arr2)\n",
    "print(arr1%arr2)\n",
    "print(arr1**arr2)"
   ]
  },
  {
   "cell_type": "code",
   "execution_count": 5,
   "metadata": {},
   "outputs": [
    {
     "name": "stdout",
     "output_type": "stream",
     "text": [
      "(2, 3)\n",
      "(3, 2)\n"
     ]
    }
   ],
   "source": [
    "# 행렬곱\n",
    "a1 = np.array([[1,2,3],\n",
    "               [4,5,6]])\n",
    "print(a1.shape)\n",
    "\n",
    "a2 = np.array([[10,11],\n",
    "               [20,21],\n",
    "               [30,31]])\n",
    "print(a2.shape)"
   ]
  },
  {
   "cell_type": "code",
   "execution_count": 6,
   "metadata": {},
   "outputs": [
    {
     "name": "stdout",
     "output_type": "stream",
     "text": [
      "[[140 146]\n",
      " [320 335]]\n",
      "[[140 146]\n",
      " [320 335]]\n",
      "[[140 146]\n",
      " [320 335]]\n"
     ]
    }
   ],
   "source": [
    "print(np.dot(a1, a2))\n",
    "print(a1.dot(a2))\n",
    "print(a1@a2)"
   ]
  },
  {
   "cell_type": "code",
   "execution_count": 7,
   "metadata": {},
   "outputs": [
    {
     "name": "stdout",
     "output_type": "stream",
     "text": [
      "(2, 3)\n",
      "(2, 2)\n"
     ]
    }
   ],
   "source": [
    "# 주의! 행렬곱 수행 시, 앞의 배열에 대하여 열의 길이와 뒤의 배열에 대하여 행의 길이가 같지 않으면 오류가 발생합니다.\n",
    "# a1(2,3) @ a2(3,2) = (2,2)\n",
    "\n",
    "a1 = np.array([[1,2,3],\n",
    "               [4,5,6]])\n",
    "print(a1.shape)\n",
    "\n",
    "a2 = np.array([[10,11],\n",
    "               [20,21]])\n",
    "print(a2.shape)"
   ]
  },
  {
   "cell_type": "code",
   "execution_count": 8,
   "metadata": {},
   "outputs": [
    {
     "ename": "ValueError",
     "evalue": "matmul: Input operand 1 has a mismatch in its core dimension 0, with gufunc signature (n?,k),(k,m?)->(n?,m?) (size 2 is different from 3)",
     "output_type": "error",
     "traceback": [
      "\u001b[0;31m---------------------------------------------------------------------------\u001b[0m",
      "\u001b[0;31mValueError\u001b[0m                                Traceback (most recent call last)",
      "\u001b[0;32m<ipython-input-8-220ecd01ab22>\u001b[0m in \u001b[0;36m<module>\u001b[0;34m\u001b[0m\n\u001b[0;32m----> 1\u001b[0;31m \u001b[0mprint\u001b[0m\u001b[0;34m(\u001b[0m\u001b[0ma1\u001b[0m\u001b[0;34m@\u001b[0m\u001b[0ma2\u001b[0m\u001b[0;34m)\u001b[0m\u001b[0;34m\u001b[0m\u001b[0;34m\u001b[0m\u001b[0m\n\u001b[0m",
      "\u001b[0;31mValueError\u001b[0m: matmul: Input operand 1 has a mismatch in its core dimension 0, with gufunc signature (n?,k),(k,m?)->(n?,m?) (size 2 is different from 3)"
     ]
    }
   ],
   "source": [
    "print(a1@a2)"
   ]
  },
  {
   "cell_type": "code",
   "execution_count": 9,
   "metadata": {},
   "outputs": [
    {
     "name": "stdout",
     "output_type": "stream",
     "text": [
      "[1 2 3]\n"
     ]
    }
   ],
   "source": [
    "# 2. 브로드캐스팅\n",
    "# 형태가 다른 다차원 배열에 대하여 확장을 통해 연산을 수행하는 기능입니다.\n",
    "arr = np.arange(3)\n",
    "print(arr + 1)"
   ]
  },
  {
   "cell_type": "code",
   "execution_count": 10,
   "metadata": {},
   "outputs": [
    {
     "name": "stdout",
     "output_type": "stream",
     "text": [
      "(3, 3)\n",
      "(3,)\n"
     ]
    }
   ],
   "source": [
    "a1 = np.ones((3,3), dtype=np.int)\n",
    "print(a1.shape)\n",
    "\n",
    "a2 = np.arange(3)\n",
    "print(a2.shape)"
   ]
  },
  {
   "cell_type": "code",
   "execution_count": 11,
   "metadata": {},
   "outputs": [
    {
     "name": "stdout",
     "output_type": "stream",
     "text": [
      "[[1 2 3]\n",
      " [1 2 3]\n",
      " [1 2 3]]\n"
     ]
    }
   ],
   "source": [
    "print(a1 + a2)"
   ]
  },
  {
   "cell_type": "code",
   "execution_count": 12,
   "metadata": {},
   "outputs": [
    {
     "name": "stdout",
     "output_type": "stream",
     "text": [
      "(3, 1)\n",
      "(3,)\n"
     ]
    }
   ],
   "source": [
    "a1 = np.arange(3).reshape(-1,1)\n",
    "print(a1.shape)\n",
    "\n",
    "a2 = np.arange(3)\n",
    "print(a2.shape)"
   ]
  },
  {
   "cell_type": "code",
   "execution_count": 13,
   "metadata": {},
   "outputs": [
    {
     "name": "stdout",
     "output_type": "stream",
     "text": [
      "[[0 1 2]\n",
      " [1 2 3]\n",
      " [2 3 4]]\n"
     ]
    }
   ],
   "source": [
    "print(a1 + a2)"
   ]
  },
  {
   "cell_type": "code",
   "execution_count": null,
   "metadata": {},
   "outputs": [],
   "source": [
    "# 3. 집계 함수(Aggregate function)\n",
    "# 집계 함수란 행이나 열 또는 배열 전체로부터 하나의 결과값을 반환하는 함수를 의미합니다.\n",
    "\n",
    "# 2차원 배열을 기준\n",
    "# axis=None: 전체 배열을 하나의 배열로 간주하고 집계 함수의 범위를 전체 행렬로 정의한다.\n",
    "# axis=0: 행을 기준으로 각 행의 동일 인덱스의 요소를 그룹으로 하고 이를 집계 함수의 범위로 정의한다.\n",
    "# axis=1: 열을 기준으로 각 열의 요소를 그룹으로 하고 이를 집계 함수의 범위로 정의한다."
   ]
  },
  {
   "cell_type": "code",
   "execution_count": 14,
   "metadata": {},
   "outputs": [
    {
     "name": "stdout",
     "output_type": "stream",
     "text": [
      "[[1 2 3]\n",
      " [4 5 6]\n",
      " [7 8 9]]\n"
     ]
    }
   ],
   "source": [
    "# 3-1. sum: 지정된 축을 기준으로 총합을 구하는 함수입니다.\n",
    "arr = np.arange(1, 9+1).reshape(3, 3)\n",
    "print(arr)"
   ]
  },
  {
   "cell_type": "code",
   "execution_count": 15,
   "metadata": {},
   "outputs": [
    {
     "name": "stdout",
     "output_type": "stream",
     "text": [
      "45 45\n"
     ]
    }
   ],
   "source": [
    "print(arr.sum(axis=None), np.sum(arr, axis=None))"
   ]
  },
  {
   "cell_type": "code",
   "execution_count": 16,
   "metadata": {},
   "outputs": [
    {
     "name": "stdout",
     "output_type": "stream",
     "text": [
      "45 45\n"
     ]
    }
   ],
   "source": [
    "print(arr.sum(), np.sum(arr)) # axis의 기본 값은 None이므로 생략할 수 있습니다."
   ]
  },
  {
   "cell_type": "code",
   "execution_count": 17,
   "metadata": {},
   "outputs": [
    {
     "name": "stdout",
     "output_type": "stream",
     "text": [
      "[12 15 18] [12 15 18]\n"
     ]
    }
   ],
   "source": [
    "print(arr.sum(axis=0), np.sum(arr, axis=0))"
   ]
  },
  {
   "cell_type": "code",
   "execution_count": 18,
   "metadata": {},
   "outputs": [
    {
     "name": "stdout",
     "output_type": "stream",
     "text": [
      "[ 6 15 24] [ 6 15 24]\n"
     ]
    }
   ],
   "source": [
    "print(arr.sum(axis=1), np.sum(arr, axis=1))"
   ]
  },
  {
   "cell_type": "code",
   "execution_count": 19,
   "metadata": {},
   "outputs": [
    {
     "name": "stdout",
     "output_type": "stream",
     "text": [
      "[[1 2 3]\n",
      " [4 5 6]\n",
      " [7 8 9]]\n"
     ]
    }
   ],
   "source": [
    "# 3-2. mean: 지정된 축을 기준으로 평균을 구하는 함수입니다.\n",
    "arr = np.arange(1,9+1).reshape(3,3)\n",
    "print(arr)"
   ]
  },
  {
   "cell_type": "code",
   "execution_count": 20,
   "metadata": {},
   "outputs": [
    {
     "name": "stdout",
     "output_type": "stream",
     "text": [
      "5.0 5.0\n",
      "[4. 5. 6.] [4. 5. 6.]\n",
      "[2. 5. 8.] [2. 5. 8.]\n"
     ]
    }
   ],
   "source": [
    "print(arr.mean(), np.mean(arr2))\n",
    "print(arr.mean(axis=0), np.mean(arr2, axis=0))\n",
    "print(arr.mean(axis=1), np.mean(arr2, axis=1))"
   ]
  },
  {
   "cell_type": "code",
   "execution_count": 21,
   "metadata": {},
   "outputs": [
    {
     "name": "stdout",
     "output_type": "stream",
     "text": [
      "[[1 2 3]\n",
      " [4 5 6]\n",
      " [7 8 9]]\n"
     ]
    }
   ],
   "source": [
    "# 3-3. min, max: 지정된 축을 기준으로 최소값과 최대값을 구하는 함수입니다.\n",
    "arr = np.arange(1, 9+1).reshape(3, 3)\n",
    "print(arr)"
   ]
  },
  {
   "cell_type": "code",
   "execution_count": 22,
   "metadata": {},
   "outputs": [
    {
     "name": "stdout",
     "output_type": "stream",
     "text": [
      "1 1\n",
      "[1 2 3] [1 2 3]\n",
      "[1 4 7] [1 4 7]\n"
     ]
    }
   ],
   "source": [
    "print(arr.min(axis=None), np.min(arr, axis=None))\n",
    "print(arr.min(axis=0), np.min(arr, axis=0))\n",
    "print(arr.min(axis=1), np.min(arr, axis=1))"
   ]
  },
  {
   "cell_type": "code",
   "execution_count": 23,
   "metadata": {},
   "outputs": [
    {
     "name": "stdout",
     "output_type": "stream",
     "text": [
      "9 9\n",
      "[7 8 9] [7 8 9]\n",
      "[3 6 9] [3 6 9]\n"
     ]
    }
   ],
   "source": [
    "print(arr.max(), np.max(arr))\n",
    "print(arr.max(axis=0), np.max(arr, axis=0))\n",
    "print(arr.max(axis=1), np.max(arr, axis=1))"
   ]
  },
  {
   "cell_type": "code",
   "execution_count": 24,
   "metadata": {},
   "outputs": [
    {
     "name": "stdout",
     "output_type": "stream",
     "text": [
      "[[1 2 3]\n",
      " [4 5 6]\n",
      " [7 8 9]]\n"
     ]
    }
   ],
   "source": [
    "# 3-4. argmin, argmax: 지정된 축을 기준으로 최소값과 최대값의 인덱스를 구하는 함수입니다.\n",
    "arr = np.arange(1, 9+1).reshape(3, 3)\n",
    "print(arr)"
   ]
  },
  {
   "cell_type": "code",
   "execution_count": 25,
   "metadata": {},
   "outputs": [
    {
     "name": "stdout",
     "output_type": "stream",
     "text": [
      "0 0\n",
      "[0 0 0] [0 0 0]\n",
      "[0 0 0] [0 0 0]\n"
     ]
    }
   ],
   "source": [
    "print(arr.argmin(axis=None), np.argmin(arr, axis=None))\n",
    "print(arr.argmin(axis=0), np.argmin(arr, axis=0))\n",
    "print(arr.argmin(axis=1), np.argmin(arr, axis=1))"
   ]
  },
  {
   "cell_type": "code",
   "execution_count": 26,
   "metadata": {},
   "outputs": [
    {
     "name": "stdout",
     "output_type": "stream",
     "text": [
      "8 8\n",
      "[2 2 2] [2 2 2]\n",
      "[2 2 2] [2 2 2]\n"
     ]
    }
   ],
   "source": [
    "print(arr.argmax(), np.argmax(arr))\n",
    "print(arr.argmax(axis=0), np.argmax(arr, axis=0))\n",
    "print(arr.argmax(axis=1), np.argmax(arr, axis=1))"
   ]
  },
  {
   "cell_type": "code",
   "execution_count": null,
   "metadata": {},
   "outputs": [],
   "source": []
  }
 ],
 "metadata": {
  "kernelspec": {
   "display_name": "Python 3",
   "language": "python",
   "name": "python3"
  },
  "language_info": {
   "codemirror_mode": {
    "name": "ipython",
    "version": 3
   },
   "file_extension": ".py",
   "mimetype": "text/x-python",
   "name": "python",
   "nbconvert_exporter": "python",
   "pygments_lexer": "ipython3",
   "version": "3.7.4"
  }
 },
 "nbformat": 4,
 "nbformat_minor": 4
}
