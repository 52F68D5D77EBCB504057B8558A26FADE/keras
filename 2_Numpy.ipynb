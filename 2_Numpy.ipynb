{
 "cells": [
  {
   "cell_type": "code",
   "execution_count": 1,
   "metadata": {},
   "outputs": [
    {
     "name": "stdout",
     "output_type": "stream",
     "text": [
      "1\n",
      "(3,)\n",
      "int64\n",
      "3\n"
     ]
    }
   ],
   "source": [
    "import numpy as np\n",
    "\n",
    "# 배열의 속성 조회\n",
    "arr = np.array([1,2,3])\n",
    "\n",
    "print(arr.ndim)  # 차원 정보\n",
    "print(arr.shape) # 형상 정보\n",
    "print(arr.dtype) # 원소의 타입 정보\n",
    "print(arr.size)  # 원소의 갯수"
   ]
  },
  {
   "cell_type": "code",
   "execution_count": 2,
   "metadata": {},
   "outputs": [
    {
     "name": "stdout",
     "output_type": "stream",
     "text": [
      "2\n",
      "(2, 3)\n",
      "int64\n",
      "6\n"
     ]
    }
   ],
   "source": [
    "arr = np.array([[1,2,3],\n",
    "                [4,5,6]])\n",
    "print(arr.ndim)\n",
    "print(arr.shape)\n",
    "print(arr.dtype)\n",
    "print(arr.size)"
   ]
  },
  {
   "cell_type": "code",
   "execution_count": 5,
   "metadata": {},
   "outputs": [
    {
     "name": "stdout",
     "output_type": "stream",
     "text": [
      "1 2 3 4\n",
      "4 3 2 1\n"
     ]
    },
    {
     "ename": "IndexError",
     "evalue": "index -5 is out of bounds for axis 0 with size 4",
     "output_type": "error",
     "traceback": [
      "\u001b[0;31m---------------------------------------------------------------------------\u001b[0m",
      "\u001b[0;31mIndexError\u001b[0m                                Traceback (most recent call last)",
      "\u001b[0;32m<ipython-input-5-52831ac4f9af>\u001b[0m in \u001b[0;36m<module>\u001b[0;34m\u001b[0m\n\u001b[1;32m      8\u001b[0m \u001b[0;34m\u001b[0m\u001b[0m\n\u001b[1;32m      9\u001b[0m \u001b[0;31m# print(arr[5]) # ERROR\u001b[0m\u001b[0;34m\u001b[0m\u001b[0;34m\u001b[0m\u001b[0;34m\u001b[0m\u001b[0m\n\u001b[0;32m---> 10\u001b[0;31m \u001b[0mprint\u001b[0m\u001b[0;34m(\u001b[0m\u001b[0marr\u001b[0m\u001b[0;34m[\u001b[0m\u001b[0;34m-\u001b[0m\u001b[0;36m5\u001b[0m\u001b[0;34m]\u001b[0m\u001b[0;34m)\u001b[0m \u001b[0;31m# ERROR\u001b[0m\u001b[0;34m\u001b[0m\u001b[0;34m\u001b[0m\u001b[0m\n\u001b[0m",
      "\u001b[0;31mIndexError\u001b[0m: index -5 is out of bounds for axis 0 with size 4"
     ]
    }
   ],
   "source": [
    "# 배열의 원소 조회 1. 인덱싱(indexing)\n",
    "\n",
    "#              -4 -3 -2 -1\n",
    "#               0  1  2  3\n",
    "arr = np.array([1, 2, 3, 4])\n",
    "print(arr[0], arr[1], arr[2], arr[3])\n",
    "print(arr[-1], arr[-2], arr[-3], arr[-4])  \n",
    "\n",
    "# print(arr[5]) # ERROR\n",
    "# print(arr[-5]) # ERROR"
   ]
  },
  {
   "cell_type": "code",
   "execution_count": 6,
   "metadata": {},
   "outputs": [
    {
     "name": "stdout",
     "output_type": "stream",
     "text": [
      "[0 0 0 0]\n"
     ]
    }
   ],
   "source": [
    "# 인덱싱을 사용한 원소의 수정\n",
    "arr[0] = 0\n",
    "arr[1] = 0\n",
    "arr[2] = 0\n",
    "arr[3] = 0\n",
    "print(arr)"
   ]
  },
  {
   "cell_type": "code",
   "execution_count": 7,
   "metadata": {},
   "outputs": [
    {
     "name": "stdout",
     "output_type": "stream",
     "text": [
      "[11 22 33 44 55 66]\n"
     ]
    }
   ],
   "source": [
    "# 배열의 원소 조회 2. 슬라이싱(slicing)\n",
    "# 사용방법: 배열명[시작인덱스:마지막인덱스:간격] -> 반개구간: [시작인덱스,마지막인덱스)\n",
    "arr = np.array([11, 22, 33, 44, 55, 66])\n",
    "\n",
    "print(arr[0:6:1])"
   ]
  },
  {
   "cell_type": "code",
   "execution_count": 8,
   "metadata": {},
   "outputs": [
    {
     "name": "stdout",
     "output_type": "stream",
     "text": [
      "[11 22 33 44 55 66]\n",
      "[11 22 33 44 55 66]\n",
      "[11 22 33 44 55 66]\n"
     ]
    }
   ],
   "source": [
    "print(arr[0:6]) # 간격의 기본 값은 1입니다.\n",
    "print(arr[0:])  # 마지막 인덱스의 기본값은 '마지막인덱스+1'입니다.\n",
    "print(arr[:])   # 시작 인덱스의 기본값은 0입니다."
   ]
  },
  {
   "cell_type": "code",
   "execution_count": 9,
   "metadata": {},
   "outputs": [
    {
     "name": "stdout",
     "output_type": "stream",
     "text": [
      "[11 33 55]\n",
      "[66 55 44]\n",
      "[33 44 55]\n"
     ]
    }
   ],
   "source": [
    "# 슬라이싱시, 음수도 사용할 수 있습니다.\n",
    "print(arr[-6::2])\n",
    "print(arr[5:2:-1])\n",
    "print(arr[2:-1])"
   ]
  },
  {
   "cell_type": "code",
   "execution_count": 10,
   "metadata": {},
   "outputs": [
    {
     "name": "stdout",
     "output_type": "stream",
     "text": [
      "[66 55 44 33 22 11]\n",
      "[66 44 22]\n"
     ]
    }
   ],
   "source": [
    "# 배열 전체에 대하여 간격을 음수로 사용하면 역순으로 선택됩니다.\n",
    "print(arr[::-1])\n",
    "\n",
    "     0   1   2   3   4   5\n",
    "#  [11, 22, 33, 44, 55, 66]\n",
    "print(arr[::-2])"
   ]
  },
  {
   "cell_type": "code",
   "execution_count": 11,
   "metadata": {},
   "outputs": [
    {
     "name": "stdout",
     "output_type": "stream",
     "text": [
      "[11, 22, 33, 44, 55]\n"
     ]
    }
   ],
   "source": [
    "# 파이썬의 리스트와 다른 점은 슬라이싱 후에 반환된 배열은 복사본이 아니라 뷰입니다.\n",
    "# 따라서 반환된 배열에 대하여 수정할 경우, 원본에 반영이 됩니다. 이는 성능을 높이고 메모리 이슈를 피하기 위해서 입니다.\n",
    "l = [11, 22, 33, 44, 55]\n",
    "x = l[:]\n",
    "x[0] = 0\n",
    "print(l)"
   ]
  },
  {
   "cell_type": "code",
   "execution_count": 12,
   "metadata": {},
   "outputs": [
    {
     "name": "stdout",
     "output_type": "stream",
     "text": [
      "[ 0 22 33 44 55]\n"
     ]
    }
   ],
   "source": [
    "a = np.array([11, 22, 33, 44, 55])\n",
    "x = a[:]\n",
    "x[0] = 0\n",
    "print(a)"
   ]
  },
  {
   "cell_type": "code",
   "execution_count": 13,
   "metadata": {},
   "outputs": [
    {
     "name": "stdout",
     "output_type": "stream",
     "text": [
      "[11  0 33 44 55]\n"
     ]
    }
   ],
   "source": [
    "a = np.array([11, 22, 33, 44, 55])\n",
    "x = a[1:4]\n",
    "x[0] = 0\n",
    "print(a)"
   ]
  },
  {
   "cell_type": "code",
   "execution_count": 14,
   "metadata": {},
   "outputs": [
    {
     "name": "stdout",
     "output_type": "stream",
     "text": [
      "[11 22 33 44 55]\n"
     ]
    }
   ],
   "source": [
    "# 복사본을 사용하고 싶다면 copy 메서드를 사용하면 됩니다.\n",
    "a = np.array([11, 22, 33, 44, 55])\n",
    "x = a[:].copy()\n",
    "x[0] = 0\n",
    "print(a)"
   ]
  },
  {
   "cell_type": "code",
   "execution_count": 15,
   "metadata": {},
   "outputs": [
    {
     "name": "stdout",
     "output_type": "stream",
     "text": [
      "[0 2 0 4 0 6]\n"
     ]
    }
   ],
   "source": [
    "# 슬라이싱을 사용하여 일부 구간을 수정할 수 있습니다.\n",
    "arr = np.array([1,2,3,4,5,6])\n",
    "arr[::2] = 0\n",
    "print(arr)"
   ]
  },
  {
   "cell_type": "code",
   "execution_count": 16,
   "metadata": {},
   "outputs": [
    {
     "name": "stdout",
     "output_type": "stream",
     "text": [
      "[[ 1  2  3  4  5]\n",
      " [ 6  7  8  9 10]\n",
      " [11 12 13 14 15]\n",
      " [16 17 18 19 20]]\n"
     ]
    }
   ],
   "source": [
    "# 2차원 배열에 대해서도 슬라이싱을 할 수 있습니다.\n",
    "#                 0   1   2   3   4\n",
    "arr = np.array([[ 1,  2,  3,  4,  5],  # 0\n",
    "                [ 6,  7,  8,  9, 10],  # 1\n",
    "                [11, 12, 13, 14, 15],  # 2\n",
    "                [16, 17, 18, 19, 20]]) # 3\n",
    "\n",
    "print(arr[0:4:1, 0:5:1])"
   ]
  },
  {
   "cell_type": "code",
   "execution_count": 17,
   "metadata": {},
   "outputs": [
    {
     "name": "stdout",
     "output_type": "stream",
     "text": [
      "[[ 1  2  3  4  5]\n",
      " [ 6  7  8  9 10]\n",
      " [11 12 13 14 15]\n",
      " [16 17 18 19 20]]\n",
      "[[ 1  2  3  4  5]\n",
      " [ 6  7  8  9 10]\n",
      " [11 12 13 14 15]\n",
      " [16 17 18 19 20]]\n"
     ]
    }
   ],
   "source": [
    "print(arr[::,::]) \n",
    "print(arr[:,:])"
   ]
  },
  {
   "cell_type": "code",
   "execution_count": 18,
   "metadata": {},
   "outputs": [
    {
     "name": "stdout",
     "output_type": "stream",
     "text": [
      "[[ 2  3  4]\n",
      " [ 7  8  9]\n",
      " [12 13 14]]\n"
     ]
    }
   ],
   "source": [
    "print(arr[0:3,1:4])"
   ]
  },
  {
   "cell_type": "code",
   "execution_count": 19,
   "metadata": {},
   "outputs": [
    {
     "name": "stdout",
     "output_type": "stream",
     "text": [
      "[[15 14 13 12 11]\n",
      " [20 19 18 17 16]]\n"
     ]
    }
   ],
   "source": [
    "print(arr[2:, ::-1])"
   ]
  },
  {
   "cell_type": "code",
   "execution_count": 20,
   "metadata": {},
   "outputs": [
    {
     "name": "stdout",
     "output_type": "stream",
     "text": [
      "[[20 19 18 17 16]\n",
      " [15 14 13 12 11]\n",
      " [10  9  8  7  6]\n",
      " [ 5  4  3  2  1]]\n"
     ]
    }
   ],
   "source": [
    "print(arr[::-1, ::-1])"
   ]
  },
  {
   "cell_type": "code",
   "execution_count": 21,
   "metadata": {},
   "outputs": [
    {
     "name": "stdout",
     "output_type": "stream",
     "text": [
      "[1 3 5]\n"
     ]
    }
   ],
   "source": [
    "# 인덱싱과 슬라이싱을 조합할 수 있습니다.\n",
    "arr = np.array([[ 1,  2,  3,  4,  5],\n",
    "                [ 6,  7,  8,  9, 10],\n",
    "                [11, 12, 13, 14, 15],\n",
    "                [16, 17, 18, 19, 20]])\n",
    "\n",
    "print(arr[0, ::2])"
   ]
  },
  {
   "cell_type": "code",
   "execution_count": 22,
   "metadata": {},
   "outputs": [
    {
     "name": "stdout",
     "output_type": "stream",
     "text": [
      "[10 30]\n"
     ]
    }
   ],
   "source": [
    "# 배열의 원소 조회 3. 팬시 인덱싱(fancy indexing)\n",
    "# 다수의 인덱스를 사용하여 원소를 조회하는 방법\n",
    "arr = np.array([10, 20, 30, 40, 50, 60])\n",
    "\n",
    "print(np.array([arr[0], arr[2]]))"
   ]
  },
  {
   "cell_type": "code",
   "execution_count": 23,
   "metadata": {},
   "outputs": [
    {
     "name": "stdout",
     "output_type": "stream",
     "text": [
      "[10 30]\n"
     ]
    }
   ],
   "source": [
    "idx = np.array([0, 2])\n",
    "print(arr[idx])"
   ]
  },
  {
   "cell_type": "code",
   "execution_count": 24,
   "metadata": {},
   "outputs": [
    {
     "name": "stdout",
     "output_type": "stream",
     "text": [
      "[[10 20]\n",
      " [40 30]]\n"
     ]
    }
   ],
   "source": [
    "idx = np.array([[0,1], [3,2]])\n",
    "print(arr[idx])"
   ]
  },
  {
   "cell_type": "code",
   "execution_count": 25,
   "metadata": {},
   "outputs": [
    {
     "name": "stdout",
     "output_type": "stream",
     "text": [
      "[1 3 7 9]\n"
     ]
    }
   ],
   "source": [
    "# 2차원 배열도 팬시 인덱싱이 가능합니다.\n",
    "#                0 1 2\n",
    "arr = np.array([[1,2,3],  # 0\n",
    "                [4,5,6],  # 1\n",
    "                [7,8,9]]) # 2\n",
    "\n",
    "# (0,0), (0,2), (2,0), (2,2)\n",
    "\n",
    "rows = np.array([0, 0, 2, 2])\n",
    "cols = np.array([0, 2, 0, 2])\n",
    "print(arr[rows, cols])"
   ]
  },
  {
   "cell_type": "code",
   "execution_count": 26,
   "metadata": {},
   "outputs": [
    {
     "name": "stdout",
     "output_type": "stream",
     "text": [
      "[[0 2 0]\n",
      " [4 5 6]\n",
      " [0 8 0]]\n"
     ]
    }
   ],
   "source": [
    "arr[rows, cols] = 0\n",
    "print(arr)"
   ]
  },
  {
   "cell_type": "code",
   "execution_count": 27,
   "metadata": {},
   "outputs": [
    {
     "name": "stdout",
     "output_type": "stream",
     "text": [
      "[2 3]\n",
      "[1 4]\n"
     ]
    }
   ],
   "source": [
    "# 팬시 인덱싱과 인덱싱 그리고 슬라이싱을 조합할 수 있습니다.\n",
    "\n",
    "#                0 1 2\n",
    "arr = np.array([[1,2,3],  # 0\n",
    "                [4,5,6],  # 1\n",
    "                [7,8,9]]) # 2\n",
    "\n",
    "rows = np.array([0,1])\n",
    "cols = np.array([1,2])\n",
    "\n",
    "print(arr[0, cols]) # [2, 3]\n",
    "print(arr[rows, 0]) # [1, 4]"
   ]
  },
  {
   "cell_type": "code",
   "execution_count": 28,
   "metadata": {},
   "outputs": [
    {
     "name": "stdout",
     "output_type": "stream",
     "text": [
      "[[1 2 3]\n",
      " [4 5 6]]\n",
      "[[2 3]\n",
      " [5 6]\n",
      " [8 9]]\n"
     ]
    }
   ],
   "source": [
    "print(arr[rows, :])\n",
    "print(arr[:,cols])"
   ]
  },
  {
   "cell_type": "code",
   "execution_count": 30,
   "metadata": {},
   "outputs": [
    {
     "name": "stdout",
     "output_type": "stream",
     "text": [
      "[1 3 5]\n"
     ]
    }
   ],
   "source": [
    "# 배열의 원소 조회 4. 불리언 인덱싱(boolean indexing)\n",
    "# 배열의 각 요소에 대하여 True를 사용하여 선택하는 기능\n",
    "\n",
    "arr = np.array([1,2,3,4,5])\n",
    "bools = np.array([True, False, True, False, True])\n",
    "print(arr[bools])"
   ]
  },
  {
   "cell_type": "code",
   "execution_count": 31,
   "metadata": {},
   "outputs": [
    {
     "name": "stdout",
     "output_type": "stream",
     "text": [
      "[1 3 7 9]\n"
     ]
    }
   ],
   "source": [
    "arr = np.array([[1,2,3],\n",
    "                [4,5,6],\n",
    "                [7,8,9]])\n",
    "\n",
    "bools = np.array([[True, False, True],\n",
    "                  [False, False, False],\n",
    "                  [True, False, True]])\n",
    "print(arr[bools])"
   ]
  },
  {
   "cell_type": "code",
   "execution_count": 32,
   "metadata": {},
   "outputs": [
    {
     "name": "stdout",
     "output_type": "stream",
     "text": [
      "[[0 2 0]\n",
      " [4 5 6]\n",
      " [0 8 0]]\n"
     ]
    }
   ],
   "source": [
    "arr[bools] = 0\n",
    "print(arr)"
   ]
  }
 ],
 "metadata": {
  "kernelspec": {
   "display_name": "Python 3",
   "language": "python",
   "name": "python3"
  },
  "language_info": {
   "codemirror_mode": {
    "name": "ipython",
    "version": 3
   },
   "file_extension": ".py",
   "mimetype": "text/x-python",
   "name": "python",
   "nbconvert_exporter": "python",
   "pygments_lexer": "ipython3",
   "version": "3.7.4"
  }
 },
 "nbformat": 4,
 "nbformat_minor": 4
}
