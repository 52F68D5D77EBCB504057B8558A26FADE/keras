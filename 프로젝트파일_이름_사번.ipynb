{
 "cells": [
  {
   "cell_type": "code",
   "execution_count": null,
   "metadata": {},
   "outputs": [],
   "source": [
    "# 이름: 이름을 입력해 주세요\n",
    "# 사번: 사번을 입력해 주세요\n",
    "\n",
    "# 필요한 경우, 다른 모듈을 삽입할 수 있습니다.\n",
    "import numpy as np\n",
    "from tensorflow import keras\n",
    "import tensorflow as tf\n",
    "from tensorflow.keras.datasets import fashion_mnist\n",
    "from tensorflow.keras.models import Sequential\n",
    "from tensorflow.keras.layers import Dense, Flatten, Conv2D, MaxPooling2D\n",
    "\n",
    "# 이 부분은 수정하지 않습니다.\n",
    "# --------------------------------------------------------------\n",
    "tf.random.set_seed(42)\n",
    "np.random.seed(42)\n",
    "(x_train, y_train), (x_test, y_test) = fashion_mnist.load_data()\n",
    "# --------------------------------------------------------------\n",
    "\n",
    "# 제약 조건!\n",
    "# CNN을 사용하여 구현해야 합니다.\n",
    "\n",
    "# 아래 부분을 구현하시면 됩니다.\n",
    "# --------------------------------\n",
    "model = Sequential()\n",
    "# --------------------------------\n",
    "\n",
    "# 아래 코드는 수정하지 않습니다.\n",
    "result = model.evaluate(x_test, y_test)\n",
    "print(result[1])"
   ]
  }
 ],
 "metadata": {
  "kernelspec": {
   "display_name": "Python 3",
   "language": "python",
   "name": "python3"
  },
  "language_info": {
   "codemirror_mode": {
    "name": "ipython",
    "version": 3
   },
   "file_extension": ".py",
   "mimetype": "text/x-python",
   "name": "python",
   "nbconvert_exporter": "python",
   "pygments_lexer": "ipython3",
   "version": "3.7.4"
  }
 },
 "nbformat": 4,
 "nbformat_minor": 4
}
